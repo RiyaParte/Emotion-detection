{
 "cells": [
  {
   "cell_type": "code",
   "execution_count": 2,
   "metadata": {},
   "outputs": [],
   "source": [
    "import tensorflow as tf\n",
    "import pandas as pd\n",
    "import numpy as np\n",
    "import keras\n",
    "import os"
   ]
  },
  {
   "cell_type": "code",
   "execution_count": 3,
   "metadata": {},
   "outputs": [],
   "source": [
    "from keras.models import Sequential\n",
    "from keras.layers.core import Flatten,Dense,Dropout\n",
    "from keras.layers.convolutional import Convolution2D,MaxPooling2D,ZeroPadding2D\n",
    "from keras.optimizers import SGD\n",
    "import cv2"
   ]
  },
  {
   "cell_type": "code",
   "execution_count": 4,
   "metadata": {},
   "outputs": [],
   "source": [
    "df = pd.read_csv('fer2013.csv')"
   ]
  },
  {
   "cell_type": "code",
   "execution_count": 5,
   "metadata": {},
   "outputs": [
    {
     "data": {
      "text/plain": [
       "(35887, 3)"
      ]
     },
     "execution_count": 5,
     "metadata": {},
     "output_type": "execute_result"
    }
   ],
   "source": [
    "df.shape"
   ]
  },
  {
   "cell_type": "code",
   "execution_count": 6,
   "metadata": {},
   "outputs": [
    {
     "data": {
      "text/html": [
       "<div>\n",
       "<style scoped>\n",
       "    .dataframe tbody tr th:only-of-type {\n",
       "        vertical-align: middle;\n",
       "    }\n",
       "\n",
       "    .dataframe tbody tr th {\n",
       "        vertical-align: top;\n",
       "    }\n",
       "\n",
       "    .dataframe thead th {\n",
       "        text-align: right;\n",
       "    }\n",
       "</style>\n",
       "<table border=\"1\" class=\"dataframe\">\n",
       "  <thead>\n",
       "    <tr style=\"text-align: right;\">\n",
       "      <th></th>\n",
       "      <th>emotion</th>\n",
       "      <th>pixels</th>\n",
       "      <th>Usage</th>\n",
       "    </tr>\n",
       "  </thead>\n",
       "  <tbody>\n",
       "    <tr>\n",
       "      <th>0</th>\n",
       "      <td>0</td>\n",
       "      <td>70 80 82 72 58 58 60 63 54 58 60 48 89 115 121...</td>\n",
       "      <td>Training</td>\n",
       "    </tr>\n",
       "    <tr>\n",
       "      <th>1</th>\n",
       "      <td>0</td>\n",
       "      <td>151 150 147 155 148 133 111 140 170 174 182 15...</td>\n",
       "      <td>Training</td>\n",
       "    </tr>\n",
       "    <tr>\n",
       "      <th>2</th>\n",
       "      <td>2</td>\n",
       "      <td>231 212 156 164 174 138 161 173 182 200 106 38...</td>\n",
       "      <td>Training</td>\n",
       "    </tr>\n",
       "    <tr>\n",
       "      <th>3</th>\n",
       "      <td>4</td>\n",
       "      <td>24 32 36 30 32 23 19 20 30 41 21 22 32 34 21 1...</td>\n",
       "      <td>Training</td>\n",
       "    </tr>\n",
       "    <tr>\n",
       "      <th>4</th>\n",
       "      <td>6</td>\n",
       "      <td>4 0 0 0 0 0 0 0 0 0 0 0 3 15 23 28 48 50 58 84...</td>\n",
       "      <td>Training</td>\n",
       "    </tr>\n",
       "    <tr>\n",
       "      <th>...</th>\n",
       "      <td>...</td>\n",
       "      <td>...</td>\n",
       "      <td>...</td>\n",
       "    </tr>\n",
       "    <tr>\n",
       "      <th>35877</th>\n",
       "      <td>6</td>\n",
       "      <td>139 143 145 154 159 168 176 181 190 191 195 19...</td>\n",
       "      <td>PrivateTest</td>\n",
       "    </tr>\n",
       "    <tr>\n",
       "      <th>35878</th>\n",
       "      <td>3</td>\n",
       "      <td>0 39 81 80 104 97 51 64 68 46 41 67 53 68 70 5...</td>\n",
       "      <td>PrivateTest</td>\n",
       "    </tr>\n",
       "    <tr>\n",
       "      <th>35879</th>\n",
       "      <td>2</td>\n",
       "      <td>0 0 6 16 19 31 47 18 26 19 17 8 15 3 4 2 14 20...</td>\n",
       "      <td>PrivateTest</td>\n",
       "    </tr>\n",
       "    <tr>\n",
       "      <th>35880</th>\n",
       "      <td>2</td>\n",
       "      <td>164 172 175 171 172 173 178 181 188 192 197 20...</td>\n",
       "      <td>PrivateTest</td>\n",
       "    </tr>\n",
       "    <tr>\n",
       "      <th>35881</th>\n",
       "      <td>0</td>\n",
       "      <td>181 177 176 156 178 144 136 132 122 107 131 16...</td>\n",
       "      <td>PrivateTest</td>\n",
       "    </tr>\n",
       "  </tbody>\n",
       "</table>\n",
       "<p>35882 rows × 3 columns</p>\n",
       "</div>"
      ],
      "text/plain": [
       "       emotion                                             pixels        Usage\n",
       "0            0  70 80 82 72 58 58 60 63 54 58 60 48 89 115 121...     Training\n",
       "1            0  151 150 147 155 148 133 111 140 170 174 182 15...     Training\n",
       "2            2  231 212 156 164 174 138 161 173 182 200 106 38...     Training\n",
       "3            4  24 32 36 30 32 23 19 20 30 41 21 22 32 34 21 1...     Training\n",
       "4            6  4 0 0 0 0 0 0 0 0 0 0 0 3 15 23 28 48 50 58 84...     Training\n",
       "...        ...                                                ...          ...\n",
       "35877        6  139 143 145 154 159 168 176 181 190 191 195 19...  PrivateTest\n",
       "35878        3  0 39 81 80 104 97 51 64 68 46 41 67 53 68 70 5...  PrivateTest\n",
       "35879        2  0 0 6 16 19 31 47 18 26 19 17 8 15 3 4 2 14 20...  PrivateTest\n",
       "35880        2  164 172 175 171 172 173 178 181 188 192 197 20...  PrivateTest\n",
       "35881        0  181 177 176 156 178 144 136 132 122 107 131 16...  PrivateTest\n",
       "\n",
       "[35882 rows x 3 columns]"
      ]
     },
     "execution_count": 6,
     "metadata": {},
     "output_type": "execute_result"
    }
   ],
   "source": [
    "df.head(-5)"
   ]
  },
  {
   "cell_type": "code",
   "execution_count": 7,
   "metadata": {},
   "outputs": [
    {
     "name": "stdout",
     "output_type": "stream",
     "text": [
      "<class 'pandas.core.frame.DataFrame'>\n",
      "RangeIndex: 35887 entries, 0 to 35886\n",
      "Data columns (total 3 columns):\n",
      " #   Column   Non-Null Count  Dtype \n",
      "---  ------   --------------  ----- \n",
      " 0   emotion  35887 non-null  int64 \n",
      " 1   pixels   35887 non-null  object\n",
      " 2   Usage    35887 non-null  object\n",
      "dtypes: int64(1), object(2)\n",
      "memory usage: 841.2+ KB\n"
     ]
    }
   ],
   "source": [
    "df.info()"
   ]
  },
  {
   "cell_type": "code",
   "execution_count": 8,
   "metadata": {},
   "outputs": [
    {
     "data": {
      "text/plain": [
       "Training       28709\n",
       "PublicTest      3589\n",
       "PrivateTest     3589\n",
       "Name: Usage, dtype: int64"
      ]
     },
     "execution_count": 8,
     "metadata": {},
     "output_type": "execute_result"
    }
   ],
   "source": [
    "df['Usage'].value_counts()"
   ]
  },
  {
   "cell_type": "code",
   "execution_count": 7,
   "metadata": {},
   "outputs": [],
   "source": [
    "X_train,y_train,X_test,y_test = [],[],[],[]"
   ]
  },
  {
   "cell_type": "code",
   "execution_count": 8,
   "metadata": {},
   "outputs": [],
   "source": [
    "for index,row in df.iterrows():\n",
    "    val=row['pixels'].split(\" \")\n",
    "    try:\n",
    "        if 'Training' in row['Usage']:\n",
    "            X_train.append(np.array(val,'float32'))\n",
    "            y_train.append(row['emotion'])\n",
    "        elif 'PublicTest' in row['Usage']:\n",
    "            X_test.append(np.array(val,'float32'))\n",
    "            y_test.append(row['emotion'])\n",
    "    except:\n",
    "        print(\"error at index :{0} and row:{1}\".format(index,row))"
   ]
  },
  {
   "cell_type": "code",
   "execution_count": 9,
   "metadata": {},
   "outputs": [
    {
     "name": "stdout",
     "output_type": "stream",
     "text": [
      "28709\n"
     ]
    }
   ],
   "source": [
    "print(len(X_train))\n"
   ]
  },
  {
   "cell_type": "code",
   "execution_count": 12,
   "metadata": {},
   "outputs": [
    {
     "data": {
      "text/plain": [
       "[array([254., 254., 254., ...,  42., 129., 180.], dtype=float32),\n",
       " array([156., 184., 198., ..., 172., 167., 161.], dtype=float32),\n",
       " array([ 69., 118.,  61., ...,  88.,  87.,  90.], dtype=float32),\n",
       " array([205., 203., 236., ...,  43.,  82.,  86.], dtype=float32),\n",
       " array([87., 79., 74., ..., 41., 34., 32.], dtype=float32)]"
      ]
     },
     "execution_count": 12,
     "metadata": {},
     "output_type": "execute_result"
    }
   ],
   "source": [
    "X_test[:5]"
   ]
  },
  {
   "cell_type": "code",
   "execution_count": 13,
   "metadata": {},
   "outputs": [
    {
     "data": {
      "text/plain": [
       "0"
      ]
     },
     "execution_count": 13,
     "metadata": {},
     "output_type": "execute_result"
    }
   ],
   "source": [
    "y_test[0]"
   ]
  },
  {
   "cell_type": "code",
   "execution_count": 10,
   "metadata": {},
   "outputs": [],
   "source": [
    "num_features = 64\n",
    "num_labels = 7\n",
    "batch_size = 64\n",
    "epochs = 60\n",
    "width, height = 48,48"
   ]
  },
  {
   "cell_type": "code",
   "execution_count": 11,
   "metadata": {},
   "outputs": [],
   "source": [
    "X_train = np.array(X_train,'float32')\n",
    "X_test = np.array(X_test,'float32')\n",
    "y_train = np.array(y_train,'float32')\n",
    "y_test = np.array(y_test,'float32')"
   ]
  },
  {
   "cell_type": "code",
   "execution_count": 12,
   "metadata": {},
   "outputs": [
    {
     "name": "stdout",
     "output_type": "stream",
     "text": [
      "(28709, 2304)\n",
      "(28709,)\n",
      "(3589, 2304)\n",
      "(3589,)\n"
     ]
    }
   ],
   "source": [
    "print(X_train.shape)\n",
    "print(y_train.shape)\n",
    "print(X_test.shape)\n",
    "print(y_test.shape)"
   ]
  },
  {
   "cell_type": "code",
   "execution_count": 17,
   "metadata": {},
   "outputs": [],
   "source": [
    "from keras.utils.np_utils import to_categorical\n",
    "y_train = to_categorical(y_train,num_classes=num_labels)\n",
    "y_test = to_categorical(y_test,num_classes=num_labels)"
   ]
  },
  {
   "cell_type": "code",
   "execution_count": 18,
   "metadata": {},
   "outputs": [
    {
     "name": "stdout",
     "output_type": "stream",
     "text": [
      "[1. 0. 0. 0. 0. 0. 0.]\n"
     ]
    }
   ],
   "source": [
    "print(y_train[0])"
   ]
  },
  {
   "cell_type": "code",
   "execution_count": 19,
   "metadata": {},
   "outputs": [
    {
     "name": "stdout",
     "output_type": "stream",
     "text": [
      "(28709, 7)\n",
      "(3589, 7)\n"
     ]
    }
   ],
   "source": [
    "print(y_train.shape)\n",
    "print(y_test.shape)"
   ]
  },
  {
   "cell_type": "code",
   "execution_count": 20,
   "metadata": {},
   "outputs": [],
   "source": [
    "#normalize dataset\n",
    "X_train -= np.mean(X_train,axis=0)\n",
    "X_train /= np.std(X_train,axis=0)\n",
    "\n",
    "X_test -= np.mean(X_test,axis=0)\n",
    "X_test /= np.std(X_test,axis=0)\n",
    "\n",
    "X_train = X_train.reshape(X_train.shape[0],48,48,1)\n",
    "X_test = X_test.reshape(X_test.shape[0],48,48,1)\n",
    "\n"
   ]
  },
  {
   "cell_type": "code",
   "execution_count": 21,
   "metadata": {},
   "outputs": [
    {
     "name": "stdout",
     "output_type": "stream",
     "text": [
      "(28709, 48, 48, 1)\n",
      "(3589, 48, 48, 1)\n"
     ]
    }
   ],
   "source": [
    "print(X_train.shape)\n",
    "print(X_test.shape)"
   ]
  },
  {
   "cell_type": "code",
   "execution_count": 22,
   "metadata": {},
   "outputs": [],
   "source": [
    "from tensorflow.keras.layers import Conv2D,Dense,Flatten,Dropout,MaxPooling2D,Activation\n",
    "from tensorflow.keras.preprocessing import image\n",
    "import matplotlib.pyplot as plt\n",
    "from tensorflow.keras.losses import categorical_crossentropy\n",
    "from tensorflow.keras import layers\n",
    "from tensorflow import keras"
   ]
  },
  {
   "cell_type": "code",
   "execution_count": 23,
   "metadata": {},
   "outputs": [
    {
     "name": "stdout",
     "output_type": "stream",
     "text": [
      "Model: \"sequential\"\n",
      "_________________________________________________________________\n",
      "Layer (type)                 Output Shape              Param #   \n",
      "=================================================================\n",
      "conv2d (Conv2D)              (None, 46, 46, 64)        640       \n",
      "_________________________________________________________________\n",
      "conv2d_1 (Conv2D)            (None, 44, 44, 64)        36928     \n",
      "_________________________________________________________________\n",
      "max_pooling2d (MaxPooling2D) (None, 22, 22, 64)        0         \n",
      "_________________________________________________________________\n",
      "dropout (Dropout)            (None, 22, 22, 64)        0         \n",
      "_________________________________________________________________\n",
      "conv2d_2 (Conv2D)            (None, 20, 20, 64)        36928     \n",
      "_________________________________________________________________\n",
      "conv2d_3 (Conv2D)            (None, 18, 18, 64)        36928     \n",
      "_________________________________________________________________\n",
      "max_pooling2d_1 (MaxPooling2 (None, 9, 9, 64)          0         \n",
      "_________________________________________________________________\n",
      "dropout_1 (Dropout)          (None, 9, 9, 64)          0         \n",
      "_________________________________________________________________\n",
      "conv2d_4 (Conv2D)            (None, 7, 7, 128)         73856     \n",
      "_________________________________________________________________\n",
      "conv2d_5 (Conv2D)            (None, 5, 5, 128)         147584    \n",
      "_________________________________________________________________\n",
      "max_pooling2d_2 (MaxPooling2 (None, 2, 2, 128)         0         \n",
      "_________________________________________________________________\n",
      "flatten (Flatten)            (None, 512)               0         \n",
      "_________________________________________________________________\n",
      "dense (Dense)                (None, 1024)              525312    \n",
      "_________________________________________________________________\n",
      "dropout_2 (Dropout)          (None, 1024)              0         \n",
      "_________________________________________________________________\n",
      "dense_1 (Dense)              (None, 1024)              1049600   \n",
      "_________________________________________________________________\n",
      "dropout_3 (Dropout)          (None, 1024)              0         \n",
      "_________________________________________________________________\n",
      "dense_2 (Dense)              (None, 7)                 7175      \n",
      "=================================================================\n",
      "Total params: 1,914,951\n",
      "Trainable params: 1,914,951\n",
      "Non-trainable params: 0\n",
      "_________________________________________________________________\n"
     ]
    }
   ],
   "source": [
    "#build the model\n",
    "model = Sequential()\n",
    "\n",
    "#1st layer\n",
    "model.add(Conv2D(64, kernel_size=(3,3), activation = 'relu', input_shape = X_train.shape[1:]))\n",
    "model.add(Conv2D(64, kernel_size=(3,3), activation = 'relu'))\n",
    "model.add(MaxPooling2D(pool_size=(2,2),strides=(2,2)))\n",
    "model.add(Dropout(0.5))\n",
    "\n",
    "#2nd layer\n",
    "model.add(Conv2D(64, kernel_size=(3,3), activation = 'relu'))\n",
    "model.add(Conv2D(64, kernel_size=(3,3), activation = 'relu'))\n",
    "model.add(MaxPooling2D(pool_size=(2,2),strides=(2,2)))\n",
    "model.add(Dropout(0.5))\n",
    "\n",
    "#3rd layer\n",
    "model.add(Conv2D(128, kernel_size=(3,3), activation = 'relu'))\n",
    "model.add(Conv2D(128, kernel_size=(3,3), activation = 'relu'))\n",
    "model.add(MaxPooling2D(pool_size=(2,2),strides=(2,2)))\n",
    "\n",
    "model.add(Flatten())\n",
    "\n",
    "#fully connected layers\n",
    "model.add(Dense(1024,activation='relu'))\n",
    "model.add(Dropout(0.2))\n",
    "model.add(Dense(1024,activation='relu'))\n",
    "model.add(Dropout(0.2))\n",
    "\n",
    "model.add(Dense(num_labels,activation='softmax'))\n",
    "\n",
    "model.summary()"
   ]
  },
  {
   "cell_type": "code",
   "execution_count": 24,
   "metadata": {},
   "outputs": [],
   "source": [
    "#compile model\n",
    "model.compile(loss = categorical_crossentropy, \n",
    "              optimizer = 'sgd',\n",
    "              metrics=['accuracy'])"
   ]
  },
  {
   "cell_type": "code",
   "execution_count": 26,
   "metadata": {},
   "outputs": [
    {
     "name": "stdout",
     "output_type": "stream",
     "text": [
      "2.4.0\n"
     ]
    }
   ],
   "source": [
    "print(keras.__version__)"
   ]
  },
  {
   "cell_type": "code",
   "execution_count": 27,
   "metadata": {},
   "outputs": [
    {
     "name": "stdout",
     "output_type": "stream",
     "text": [
      "(28709, 48, 48, 1)\n",
      "(3589, 48, 48, 1)\n",
      "(28709, 7)\n",
      "(3589, 7)\n"
     ]
    }
   ],
   "source": [
    "print(X_train.shape)\n",
    "print(X_test.shape)\n",
    "print(y_train.shape)\n",
    "print(y_test.shape)"
   ]
  },
  {
   "cell_type": "code",
   "execution_count": 28,
   "metadata": {},
   "outputs": [
    {
     "name": "stdout",
     "output_type": "stream",
     "text": [
      "Epoch 1/60\n",
      "449/449 [==============================] - 145s 324ms/step - loss: 1.8252 - accuracy: 0.2485 - val_loss: 1.8217 - val_accuracy: 0.2497\n",
      "Epoch 2/60\n",
      "449/449 [==============================] - 145s 323ms/step - loss: 1.7923 - accuracy: 0.2547 - val_loss: 1.7996 - val_accuracy: 0.2508\n",
      "Epoch 3/60\n",
      "449/449 [==============================] - 146s 326ms/step - loss: 1.7793 - accuracy: 0.2584 - val_loss: 1.7939 - val_accuracy: 0.2510\n",
      "Epoch 4/60\n",
      "449/449 [==============================] - 145s 323ms/step - loss: 1.7694 - accuracy: 0.2630 - val_loss: 1.7756 - val_accuracy: 0.2566\n",
      "Epoch 5/60\n",
      "449/449 [==============================] - 144s 322ms/step - loss: 1.7542 - accuracy: 0.2793 - val_loss: 1.7583 - val_accuracy: 0.2859\n",
      "Epoch 6/60\n",
      "449/449 [==============================] - 146s 325ms/step - loss: 1.7287 - accuracy: 0.2999 - val_loss: 1.7144 - val_accuracy: 0.3029\n",
      "Epoch 7/60\n",
      "449/449 [==============================] - 149s 332ms/step - loss: 1.6944 - accuracy: 0.3203 - val_loss: 1.6764 - val_accuracy: 0.3408\n",
      "Epoch 8/60\n",
      "449/449 [==============================] - 145s 324ms/step - loss: 1.6653 - accuracy: 0.3402 - val_loss: 1.6640 - val_accuracy: 0.3279\n",
      "Epoch 9/60\n",
      "449/449 [==============================] - 150s 335ms/step - loss: 1.6466 - accuracy: 0.3489 - val_loss: 1.6319 - val_accuracy: 0.3500\n",
      "Epoch 10/60\n",
      "449/449 [==============================] - 158s 352ms/step - loss: 1.6279 - accuracy: 0.3589 - val_loss: 1.6168 - val_accuracy: 0.3589\n",
      "Epoch 11/60\n",
      "449/449 [==============================] - 145s 323ms/step - loss: 1.6087 - accuracy: 0.3668 - val_loss: 1.5939 - val_accuracy: 0.3728\n",
      "Epoch 12/60\n",
      "449/449 [==============================] - 146s 326ms/step - loss: 1.5916 - accuracy: 0.3770 - val_loss: 1.5615 - val_accuracy: 0.3840\n",
      "Epoch 13/60\n",
      "449/449 [==============================] - 157s 351ms/step - loss: 1.5725 - accuracy: 0.3846 - val_loss: 1.5613 - val_accuracy: 0.3862\n",
      "Epoch 14/60\n",
      "449/449 [==============================] - 145s 323ms/step - loss: 1.5558 - accuracy: 0.3960 - val_loss: 1.5256 - val_accuracy: 0.4007\n",
      "Epoch 15/60\n",
      "449/449 [==============================] - 143s 318ms/step - loss: 1.5396 - accuracy: 0.4026 - val_loss: 1.5084 - val_accuracy: 0.4205\n",
      "Epoch 16/60\n",
      "449/449 [==============================] - 143s 318ms/step - loss: 1.5215 - accuracy: 0.4075 - val_loss: 1.4833 - val_accuracy: 0.4280\n",
      "Epoch 17/60\n",
      "449/449 [==============================] - 142s 316ms/step - loss: 1.5056 - accuracy: 0.4164 - val_loss: 1.4566 - val_accuracy: 0.4478\n",
      "Epoch 18/60\n",
      "449/449 [==============================] - 141s 314ms/step - loss: 1.4903 - accuracy: 0.4244 - val_loss: 1.4403 - val_accuracy: 0.4455\n",
      "Epoch 19/60\n",
      "449/449 [==============================] - 140s 313ms/step - loss: 1.4723 - accuracy: 0.4293 - val_loss: 1.4516 - val_accuracy: 0.4322\n",
      "Epoch 20/60\n",
      "449/449 [==============================] - 145s 323ms/step - loss: 1.4568 - accuracy: 0.4401 - val_loss: 1.4595 - val_accuracy: 0.4277\n",
      "Epoch 21/60\n",
      "449/449 [==============================] - 142s 315ms/step - loss: 1.4434 - accuracy: 0.4421 - val_loss: 1.3982 - val_accuracy: 0.4645\n",
      "Epoch 22/60\n",
      "449/449 [==============================] - 141s 313ms/step - loss: 1.4248 - accuracy: 0.4529 - val_loss: 1.3760 - val_accuracy: 0.4717\n",
      "Epoch 23/60\n",
      "449/449 [==============================] - 144s 321ms/step - loss: 1.4118 - accuracy: 0.4590 - val_loss: 1.3664 - val_accuracy: 0.4823\n",
      "Epoch 24/60\n",
      "449/449 [==============================] - 141s 314ms/step - loss: 1.3948 - accuracy: 0.4622 - val_loss: 1.3623 - val_accuracy: 0.4787\n",
      "Epoch 25/60\n",
      "449/449 [==============================] - 141s 315ms/step - loss: 1.3827 - accuracy: 0.4690 - val_loss: 1.3577 - val_accuracy: 0.4790\n",
      "Epoch 26/60\n",
      "449/449 [==============================] - 141s 315ms/step - loss: 1.3688 - accuracy: 0.4750 - val_loss: 1.3575 - val_accuracy: 0.4762\n",
      "Epoch 27/60\n",
      "449/449 [==============================] - 142s 316ms/step - loss: 1.3542 - accuracy: 0.4804 - val_loss: 1.3351 - val_accuracy: 0.4857\n",
      "Epoch 28/60\n",
      "449/449 [==============================] - 142s 317ms/step - loss: 1.3431 - accuracy: 0.4874 - val_loss: 1.3265 - val_accuracy: 0.4896\n",
      "Epoch 29/60\n",
      "449/449 [==============================] - 141s 315ms/step - loss: 1.3292 - accuracy: 0.4911 - val_loss: 1.3056 - val_accuracy: 0.5024\n",
      "Epoch 30/60\n",
      "449/449 [==============================] - 142s 317ms/step - loss: 1.3204 - accuracy: 0.4924 - val_loss: 1.3016 - val_accuracy: 0.4996\n",
      "Epoch 31/60\n",
      "449/449 [==============================] - 141s 315ms/step - loss: 1.3082 - accuracy: 0.4999 - val_loss: 1.2906 - val_accuracy: 0.5104\n",
      "Epoch 32/60\n",
      "449/449 [==============================] - 142s 316ms/step - loss: 1.2941 - accuracy: 0.5037 - val_loss: 1.3074 - val_accuracy: 0.5010\n",
      "Epoch 33/60\n",
      "449/449 [==============================] - 142s 315ms/step - loss: 1.2854 - accuracy: 0.5085 - val_loss: 1.2818 - val_accuracy: 0.5060\n",
      "Epoch 34/60\n",
      "449/449 [==============================] - 142s 315ms/step - loss: 1.2739 - accuracy: 0.5124 - val_loss: 1.2691 - val_accuracy: 0.5096\n",
      "Epoch 35/60\n",
      "449/449 [==============================] - 144s 321ms/step - loss: 1.2657 - accuracy: 0.5165 - val_loss: 1.3105 - val_accuracy: 0.4937\n",
      "Epoch 36/60\n",
      "449/449 [==============================] - 144s 320ms/step - loss: 1.2581 - accuracy: 0.5199 - val_loss: 1.2377 - val_accuracy: 0.5269\n",
      "Epoch 37/60\n",
      "449/449 [==============================] - 142s 316ms/step - loss: 1.2457 - accuracy: 0.5220 - val_loss: 1.2445 - val_accuracy: 0.5188\n",
      "Epoch 38/60\n",
      "449/449 [==============================] - 141s 315ms/step - loss: 1.2369 - accuracy: 0.5301 - val_loss: 1.2463 - val_accuracy: 0.5208\n",
      "Epoch 39/60\n",
      "449/449 [==============================] - 142s 315ms/step - loss: 1.2286 - accuracy: 0.5340 - val_loss: 1.2284 - val_accuracy: 0.5300\n",
      "Epoch 40/60\n",
      "449/449 [==============================] - 142s 315ms/step - loss: 1.2156 - accuracy: 0.5365 - val_loss: 1.2180 - val_accuracy: 0.5358\n",
      "Epoch 41/60\n",
      "449/449 [==============================] - 142s 316ms/step - loss: 1.2090 - accuracy: 0.5396 - val_loss: 1.2137 - val_accuracy: 0.5327\n",
      "Epoch 42/60\n",
      "449/449 [==============================] - 141s 315ms/step - loss: 1.2005 - accuracy: 0.5433 - val_loss: 1.2032 - val_accuracy: 0.5400\n",
      "Epoch 43/60\n",
      "449/449 [==============================] - 142s 316ms/step - loss: 1.1884 - accuracy: 0.5482 - val_loss: 1.2092 - val_accuracy: 0.5391\n",
      "Epoch 44/60\n",
      "449/449 [==============================] - 142s 317ms/step - loss: 1.1831 - accuracy: 0.5519 - val_loss: 1.2114 - val_accuracy: 0.5341\n",
      "Epoch 45/60\n",
      "449/449 [==============================] - 143s 318ms/step - loss: 1.1726 - accuracy: 0.5563 - val_loss: 1.2249 - val_accuracy: 0.5302\n",
      "Epoch 46/60\n",
      "449/449 [==============================] - 143s 319ms/step - loss: 1.1623 - accuracy: 0.5621 - val_loss: 1.2045 - val_accuracy: 0.5414\n",
      "Epoch 47/60\n",
      "449/449 [==============================] - 143s 319ms/step - loss: 1.1542 - accuracy: 0.5631 - val_loss: 1.1771 - val_accuracy: 0.5483\n",
      "Epoch 48/60\n",
      "449/449 [==============================] - 143s 318ms/step - loss: 1.1500 - accuracy: 0.5638 - val_loss: 1.2051 - val_accuracy: 0.5408\n",
      "Epoch 49/60\n",
      "449/449 [==============================] - 143s 319ms/step - loss: 1.1395 - accuracy: 0.5709 - val_loss: 1.2039 - val_accuracy: 0.5436\n",
      "Epoch 50/60\n",
      "449/449 [==============================] - 144s 321ms/step - loss: 1.1343 - accuracy: 0.5706 - val_loss: 1.1759 - val_accuracy: 0.5581\n",
      "Epoch 51/60\n",
      "449/449 [==============================] - 144s 320ms/step - loss: 1.1232 - accuracy: 0.5735 - val_loss: 1.1878 - val_accuracy: 0.5517\n",
      "Epoch 52/60\n",
      "449/449 [==============================] - 144s 321ms/step - loss: 1.1127 - accuracy: 0.5772 - val_loss: 1.1577 - val_accuracy: 0.5631\n",
      "Epoch 53/60\n",
      "449/449 [==============================] - 144s 322ms/step - loss: 1.1097 - accuracy: 0.5793 - val_loss: 1.1656 - val_accuracy: 0.5564\n",
      "Epoch 54/60\n",
      "449/449 [==============================] - 144s 320ms/step - loss: 1.0981 - accuracy: 0.5841 - val_loss: 1.2063 - val_accuracy: 0.5436\n",
      "Epoch 55/60\n",
      "449/449 [==============================] - 144s 321ms/step - loss: 1.0862 - accuracy: 0.5893 - val_loss: 1.1822 - val_accuracy: 0.5548\n",
      "Epoch 56/60\n",
      "449/449 [==============================] - 143s 318ms/step - loss: 1.0842 - accuracy: 0.5924 - val_loss: 1.1609 - val_accuracy: 0.5612\n"
     ]
    },
    {
     "name": "stdout",
     "output_type": "stream",
     "text": [
      "Epoch 57/60\n",
      "449/449 [==============================] - 142s 316ms/step - loss: 1.0779 - accuracy: 0.5909 - val_loss: 1.1492 - val_accuracy: 0.5628\n",
      "Epoch 58/60\n",
      "449/449 [==============================] - 192s 427ms/step - loss: 1.0706 - accuracy: 0.5959 - val_loss: 1.1589 - val_accuracy: 0.5634\n",
      "Epoch 59/60\n",
      "449/449 [==============================] - 232s 517ms/step - loss: 1.0617 - accuracy: 0.5989 - val_loss: 1.1550 - val_accuracy: 0.5651\n",
      "Epoch 60/60\n",
      "449/449 [==============================] - 232s 516ms/step - loss: 1.0517 - accuracy: 0.6016 - val_loss: 1.1630 - val_accuracy: 0.5620\n"
     ]
    },
    {
     "data": {
      "text/plain": [
       "<tensorflow.python.keras.callbacks.History at 0x1f5406bf6d0>"
      ]
     },
     "execution_count": 28,
     "metadata": {},
     "output_type": "execute_result"
    }
   ],
   "source": [
    "model.fit(X_train , y_train,\n",
    "          batch_size = batch_size,\n",
    "          epochs = epochs,\n",
    "          verbose = 1,\n",
    "          validation_data = (X_test , y_test),\n",
    "          shuffle = True )"
   ]
  },
  {
   "cell_type": "code",
   "execution_count": 25,
   "metadata": {},
   "outputs": [],
   "source": [
    "#save the model\n",
    "fer_json = model.to_json()\n",
    "with open(\"fer.json\",\"w\") as json_file:\n",
    "    json_file.write(fer_json)\n",
    "model.save_weights(\"fer.h5\")"
   ]
  },
  {
   "cell_type": "code",
   "execution_count": 90,
   "metadata": {},
   "outputs": [],
   "source": [
    "from keras.models import model_from_json\n",
    "from keras.preprocessing import image\n",
    "\n",
    "model = model_from_json(open(\"fer.json\",\"r\").read())\n",
    "model.load_weights(\"fer.h5\")\n",
    "face_haar_cascade = cv2.CascadeClassifier(\"haar-cascade-files-master/haarcascade_frontalface_default.xml\")"
   ]
  },
  {
   "cell_type": "code",
   "execution_count": 91,
   "metadata": {},
   "outputs": [],
   "source": [
    "import cv2\n",
    "test_image = cv2.imread(\"test2.jpg\")\n",
    "cv2.imshow('image',test_image)\n",
    "cv2.waitKey(0)\n",
    "cv2.destroyAllWindows()"
   ]
  },
  {
   "cell_type": "code",
   "execution_count": 92,
   "metadata": {},
   "outputs": [],
   "source": [
    "gray_image = cv2.cvtColor(test_image,cv2.COLOR_BGR2GRAY)\n",
    "cv2.imshow('grayscale_image',gray_image)\n",
    "cv2.waitKey(0)\n",
    "cv2.destroyAllWindows()"
   ]
  },
  {
   "cell_type": "code",
   "execution_count": 93,
   "metadata": {},
   "outputs": [],
   "source": [
    "face_haar_cascade = cv2.CascadeClassifier(\"haar-cascade-files-master/haarcascade_frontalface_default.xml\")\n",
    "from keras.preprocessing.image import img_to_array\n",
    "cv2.imshow('image',test_image)\n",
    "cv2.waitKey(0)\n",
    "cv2.destroyAllWindows()"
   ]
  },
  {
   "cell_type": "code",
   "execution_count": 94,
   "metadata": {},
   "outputs": [
    {
     "name": "stdout",
     "output_type": "stream",
     "text": [
      "disgust\n"
     ]
    }
   ],
   "source": [
    "faces = face_haar_cascade.detectMultiScale(gray_image,1.1,4)\n",
    "for(x,y,w,h) in faces:\n",
    "    cv2.rectangle(test_image,(x,y),(x+w,y+h),(255,0,0))\n",
    "    roi_gray = gray_image[y:y+w,x:x+h]\n",
    "    roi_gray = cv2.resize(roi_gray,(48,48))\n",
    "    image_pixels = img_to_array(roi_gray)\n",
    "    image_pixels = np.expand_dims(image_pixels,axis = 0)\n",
    "    image_pixels /= 255\n",
    "    predictions = model.predict(image_pixels)\n",
    "    max_index = np.argmax(predictions[0])\n",
    "    emotion_detection = ('angry','disgust','fear','happy','sad','surprise','neutral')\n",
    "    emotion_prediction = emotion_detection[max_index]\n",
    "    print(emotion_prediction)\n",
    "    font = cv2.FONT_HERSHEY_SIMPLEX\n",
    "    org = (50,50)\n",
    "    fontScale = 1\n",
    "    color = (255,0,0)\n",
    "    thickness = 2\n",
    "    image = cv2.putText(test_image,emotion_prediction,org,font,fontScale,color,thickness,cv2.LINE_AA) \n",
    "    cv2.imshow('output',image)\n",
    "    cv2.waitKey(0)\n",
    "    cv2.destroyAllWindows()\n",
    "    \n",
    "    \n",
    "    \n",
    "    "
   ]
  },
  {
   "cell_type": "code",
   "execution_count": null,
   "metadata": {},
   "outputs": [],
   "source": []
  }
 ],
 "metadata": {
  "kernelspec": {
   "display_name": "Python 3",
   "language": "python",
   "name": "python3"
  },
  "language_info": {
   "codemirror_mode": {
    "name": "ipython",
    "version": 3
   },
   "file_extension": ".py",
   "mimetype": "text/x-python",
   "name": "python",
   "nbconvert_exporter": "python",
   "pygments_lexer": "ipython3",
   "version": "3.8.3"
  }
 },
 "nbformat": 4,
 "nbformat_minor": 4
}
